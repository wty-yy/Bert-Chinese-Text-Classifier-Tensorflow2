{
 "cells": [
  {
   "cell_type": "markdown",
   "id": "8396b3f9",
   "metadata": {},
   "source": [
    "参考文章：[TensorFlow - Classify text with BERT](https://tensorflow.google.cn/text/tutorials/classify_text_with_bert), [TensorFlow - Solve GLUE tasks using BERT on TPU](https://tensorflow.google.cn/text/tutorials/bert_glue?_gl=1*gyizha*_ga*MzE5NzQ4ODU5LjE2Njg5MzczMDE.*_ga_W0YLR4190T*MTY3MDgzNTEwMC4xOC4xLjE2NzA4MzUxMDMuMC4wLjA.)"
   ]
  },
  {
   "cell_type": "code",
   "execution_count": 1,
   "id": "364fc7fa",
   "metadata": {},
   "outputs": [],
   "source": [
    "import pandas as pd\n",
    "import tensorflow as tf\n",
    "import tensorflow.keras as keras\n",
    "from tensorflow.keras import layers, Sequential, losses, optimizers, metrics\n",
    "import tensorflow_hub as hub\n",
    "import tensorflow_text as text\n",
    "import numpy as np\n",
    "import matplotlib.pyplot as plt\n",
    "from tqdm import tqdm\n",
    "\n",
    "encoder_handle = r'model/bert_encoder/'\n",
    "preprocesser_handle = r'model/bert_preprocessor/'\n",
    "val_split = 25  # 验证集的占比\n",
    "seed = 109"
   ]
  },
  {
   "cell_type": "markdown",
   "id": "01edb837",
   "metadata": {},
   "source": [
    "## 数据预处理\n",
    "\n",
    "训练集：[online_shopping_10_cats](https://github.com/SophonPlus/ChineseNlpCorpus/blob/master/datasets/online_shopping_10_cats/intro.ipynb).\n",
    "\n",
    "1. 数据筛选.\n",
    "2. 平均训练数据.\n",
    "3. 数据预载入.\n",
    "\n",
    "数据的格式为，特征：评论文本；标签：(情感类别，商品类别)\n"
   ]
  },
  {
   "cell_type": "code",
   "execution_count": 3,
   "id": "df6afffa",
   "metadata": {
    "scrolled": false
   },
   "outputs": [
    {
     "data": {
      "text/html": [
       "<div>\n",
       "<style scoped>\n",
       "    .dataframe tbody tr th:only-of-type {\n",
       "        vertical-align: middle;\n",
       "    }\n",
       "\n",
       "    .dataframe tbody tr th {\n",
       "        vertical-align: top;\n",
       "    }\n",
       "\n",
       "    .dataframe thead th {\n",
       "        text-align: right;\n",
       "    }\n",
       "</style>\n",
       "<table border=\"1\" class=\"dataframe\">\n",
       "  <thead>\n",
       "    <tr style=\"text-align: right;\">\n",
       "      <th></th>\n",
       "      <th>cat</th>\n",
       "      <th>label</th>\n",
       "      <th>review</th>\n",
       "    </tr>\n",
       "  </thead>\n",
       "  <tbody>\n",
       "    <tr>\n",
       "      <th>0</th>\n",
       "      <td>书籍</td>\n",
       "      <td>1</td>\n",
       "      <td>﻿做父母一定要有刘墉这样的心态，不断地学习，不断地进步，不断地给自己补充新鲜血液，让自己保持...</td>\n",
       "    </tr>\n",
       "    <tr>\n",
       "      <th>1</th>\n",
       "      <td>书籍</td>\n",
       "      <td>1</td>\n",
       "      <td>作者真有英国人严谨的风格，提出观点、进行论述论证，尽管本人对物理学了解不深，但是仍然能感受到...</td>\n",
       "    </tr>\n",
       "    <tr>\n",
       "      <th>2</th>\n",
       "      <td>书籍</td>\n",
       "      <td>1</td>\n",
       "      <td>作者长篇大论借用详细报告数据处理工作和计算结果支持其新观点。为什么荷兰曾经县有欧洲最高的生产...</td>\n",
       "    </tr>\n",
       "    <tr>\n",
       "      <th>3</th>\n",
       "      <td>书籍</td>\n",
       "      <td>1</td>\n",
       "      <td>作者在战几时之前用了＂拥抱＂令人叫绝．日本如果没有战败，就有会有美军的占领，没胡官僚主义的延...</td>\n",
       "    </tr>\n",
       "    <tr>\n",
       "      <th>4</th>\n",
       "      <td>书籍</td>\n",
       "      <td>1</td>\n",
       "      <td>作者在少年时即喜阅读，能看出他精读了无数经典，因而他有一个庞大的内心世界。他的作品最难能可贵...</td>\n",
       "    </tr>\n",
       "    <tr>\n",
       "      <th>...</th>\n",
       "      <td>...</td>\n",
       "      <td>...</td>\n",
       "      <td>...</td>\n",
       "    </tr>\n",
       "    <tr>\n",
       "      <th>62769</th>\n",
       "      <td>酒店</td>\n",
       "      <td>0</td>\n",
       "      <td>我们去盐城的时候那里的最低气温只有4度，晚上冷得要死，居然还不开空调，投诉到酒店客房部，得到...</td>\n",
       "    </tr>\n",
       "    <tr>\n",
       "      <th>62770</th>\n",
       "      <td>酒店</td>\n",
       "      <td>0</td>\n",
       "      <td>房间很小，整体设施老化，和四星的差距很大。毛巾太破旧了。早餐很简陋。房间隔音很差，隔两间房间...</td>\n",
       "    </tr>\n",
       "    <tr>\n",
       "      <th>62771</th>\n",
       "      <td>酒店</td>\n",
       "      <td>0</td>\n",
       "      <td>我感觉不行。。。性价比很差。不知道是银川都这样还是怎么的！</td>\n",
       "    </tr>\n",
       "    <tr>\n",
       "      <th>62772</th>\n",
       "      <td>酒店</td>\n",
       "      <td>0</td>\n",
       "      <td>房间时间长，进去有点异味！服务员是不是不够用啊！我在一楼找了半个小时以上才找到自己房间，想找...</td>\n",
       "    </tr>\n",
       "    <tr>\n",
       "      <th>62773</th>\n",
       "      <td>酒店</td>\n",
       "      <td>0</td>\n",
       "      <td>老人小孩一大家族聚会，选在吴宫泛太平洋，以为新加坡品牌一定很不错，没想到11点30分到前台，...</td>\n",
       "    </tr>\n",
       "  </tbody>\n",
       "</table>\n",
       "<p>62774 rows × 3 columns</p>\n",
       "</div>"
      ],
      "text/plain": [
       "      cat  label                                             review\n",
       "0      书籍      1  ﻿做父母一定要有刘墉这样的心态，不断地学习，不断地进步，不断地给自己补充新鲜血液，让自己保持...\n",
       "1      书籍      1  作者真有英国人严谨的风格，提出观点、进行论述论证，尽管本人对物理学了解不深，但是仍然能感受到...\n",
       "2      书籍      1  作者长篇大论借用详细报告数据处理工作和计算结果支持其新观点。为什么荷兰曾经县有欧洲最高的生产...\n",
       "3      书籍      1  作者在战几时之前用了＂拥抱＂令人叫绝．日本如果没有战败，就有会有美军的占领，没胡官僚主义的延...\n",
       "4      书籍      1  作者在少年时即喜阅读，能看出他精读了无数经典，因而他有一个庞大的内心世界。他的作品最难能可贵...\n",
       "...    ..    ...                                                ...\n",
       "62769  酒店      0  我们去盐城的时候那里的最低气温只有4度，晚上冷得要死，居然还不开空调，投诉到酒店客房部，得到...\n",
       "62770  酒店      0  房间很小，整体设施老化，和四星的差距很大。毛巾太破旧了。早餐很简陋。房间隔音很差，隔两间房间...\n",
       "62771  酒店      0                      我感觉不行。。。性价比很差。不知道是银川都这样还是怎么的！\n",
       "62772  酒店      0  房间时间长，进去有点异味！服务员是不是不够用啊！我在一楼找了半个小时以上才找到自己房间，想找...\n",
       "62773  酒店      0  老人小孩一大家族聚会，选在吴宫泛太平洋，以为新加坡品牌一定很不错，没想到11点30分到前台，...\n",
       "\n",
       "[62774 rows x 3 columns]"
      ]
     },
     "execution_count": 3,
     "metadata": {},
     "output_type": "execute_result"
    }
   ],
   "source": [
    "df = pd.read_csv(r'./dataset/online_shopping_10_cats.csv')\n",
    "df"
   ]
  },
  {
   "cell_type": "code",
   "execution_count": 4,
   "id": "5a329a06",
   "metadata": {},
   "outputs": [],
   "source": [
    "# 删去Nan项\n",
    "df = df[df.review.isna() == False]"
   ]
  },
  {
   "cell_type": "code",
   "execution_count": 5,
   "id": "5cbcdc43",
   "metadata": {},
   "outputs": [
    {
     "name": "stdout",
     "output_type": "stream",
     "text": [
      "评论总数： 62773\n",
      "正向评论： 31727\n",
      "负向评论： 31046\n"
     ]
    }
   ],
   "source": [
    "print('评论总数：', df.shape[0])\n",
    "print('正向评论：', df[df.label==1].shape[0])\n",
    "print('负向评论：', df[df.label==0].shape[0])"
   ]
  },
  {
   "cell_type": "code",
   "execution_count": 6,
   "id": "79b09720",
   "metadata": {},
   "outputs": [],
   "source": [
    "class_names = list(df.cat.drop_duplicates())"
   ]
  },
  {
   "cell_type": "code",
   "execution_count": 7,
   "id": "aa955c8a",
   "metadata": {
    "scrolled": false
   },
   "outputs": [
    {
     "data": {
      "text/html": [
       "<div>\n",
       "<style scoped>\n",
       "    .dataframe tbody tr th:only-of-type {\n",
       "        vertical-align: middle;\n",
       "    }\n",
       "\n",
       "    .dataframe tbody tr th {\n",
       "        vertical-align: top;\n",
       "    }\n",
       "\n",
       "    .dataframe thead th {\n",
       "        text-align: right;\n",
       "    }\n",
       "</style>\n",
       "<table border=\"1\" class=\"dataframe\">\n",
       "  <thead>\n",
       "    <tr style=\"text-align: right;\">\n",
       "      <th></th>\n",
       "      <th>类别</th>\n",
       "      <th>总数目</th>\n",
       "      <th>正例</th>\n",
       "      <th>负例</th>\n",
       "    </tr>\n",
       "  </thead>\n",
       "  <tbody>\n",
       "    <tr>\n",
       "      <th>0</th>\n",
       "      <td>书籍</td>\n",
       "      <td>3851</td>\n",
       "      <td>2100</td>\n",
       "      <td>1751</td>\n",
       "    </tr>\n",
       "    <tr>\n",
       "      <th>1</th>\n",
       "      <td>平板</td>\n",
       "      <td>10000</td>\n",
       "      <td>5000</td>\n",
       "      <td>5000</td>\n",
       "    </tr>\n",
       "    <tr>\n",
       "      <th>2</th>\n",
       "      <td>手机</td>\n",
       "      <td>2323</td>\n",
       "      <td>1165</td>\n",
       "      <td>1158</td>\n",
       "    </tr>\n",
       "    <tr>\n",
       "      <th>3</th>\n",
       "      <td>水果</td>\n",
       "      <td>10000</td>\n",
       "      <td>5000</td>\n",
       "      <td>5000</td>\n",
       "    </tr>\n",
       "    <tr>\n",
       "      <th>4</th>\n",
       "      <td>洗发水</td>\n",
       "      <td>10000</td>\n",
       "      <td>5000</td>\n",
       "      <td>5000</td>\n",
       "    </tr>\n",
       "    <tr>\n",
       "      <th>5</th>\n",
       "      <td>热水器</td>\n",
       "      <td>574</td>\n",
       "      <td>474</td>\n",
       "      <td>100</td>\n",
       "    </tr>\n",
       "    <tr>\n",
       "      <th>6</th>\n",
       "      <td>蒙牛</td>\n",
       "      <td>2033</td>\n",
       "      <td>992</td>\n",
       "      <td>1041</td>\n",
       "    </tr>\n",
       "    <tr>\n",
       "      <th>7</th>\n",
       "      <td>衣服</td>\n",
       "      <td>10000</td>\n",
       "      <td>5000</td>\n",
       "      <td>5000</td>\n",
       "    </tr>\n",
       "    <tr>\n",
       "      <th>8</th>\n",
       "      <td>计算机</td>\n",
       "      <td>3992</td>\n",
       "      <td>1996</td>\n",
       "      <td>1996</td>\n",
       "    </tr>\n",
       "    <tr>\n",
       "      <th>9</th>\n",
       "      <td>酒店</td>\n",
       "      <td>10000</td>\n",
       "      <td>5000</td>\n",
       "      <td>5000</td>\n",
       "    </tr>\n",
       "  </tbody>\n",
       "</table>\n",
       "</div>"
      ],
      "text/plain": [
       "    类别    总数目    正例    负例\n",
       "0   书籍   3851  2100  1751\n",
       "1   平板  10000  5000  5000\n",
       "2   手机   2323  1165  1158\n",
       "3   水果  10000  5000  5000\n",
       "4  洗发水  10000  5000  5000\n",
       "5  热水器    574   474   100\n",
       "6   蒙牛   2033   992  1041\n",
       "7   衣服  10000  5000  5000\n",
       "8  计算机   3992  1996  1996\n",
       "9   酒店  10000  5000  5000"
      ]
     },
     "execution_count": 7,
     "metadata": {},
     "output_type": "execute_result"
    }
   ],
   "source": [
    "info_df = pd.DataFrame(columns=['类别', '总数目', '正例', '负例'])\n",
    "class2idx = {}\n",
    "idx2class = {}\n",
    "for idx, name in enumerate(class_names):\n",
    "    tmp = df[df.cat==name]\n",
    "    info_df.loc[info_df.shape[0]] = [name, tmp.shape[0], tmp[tmp.label==1].shape[0], tmp[tmp.label==0].shape[0]]\n",
    "    class2idx[name] = idx\n",
    "    idx2class[idx] = name\n",
    "info_df"
   ]
  },
  {
   "cell_type": "code",
   "execution_count": 8,
   "id": "2d7aef8c",
   "metadata": {},
   "outputs": [
    {
     "data": {
      "text/plain": [
       "[(1, array([1, 2])), (2, array([3, 4]))]"
      ]
     },
     "execution_count": 8,
     "metadata": {},
     "output_type": "execute_result"
    }
   ],
   "source": [
    "target = 10\n",
    "ds = tf.data.Dataset.from_tensor_slices(([1,2], [(1,2),(3,4)]))\n",
    "ds.take(15)\n",
    "ds.skip(5)\n",
    "list(ds.as_numpy_iterator())"
   ]
  },
  {
   "cell_type": "code",
   "execution_count": 9,
   "id": "05c977e0",
   "metadata": {},
   "outputs": [
    {
     "data": {
      "text/plain": [
       "[array([0, 1]), array([2, 3])]"
      ]
     },
     "execution_count": 9,
     "metadata": {},
     "output_type": "execute_result"
    }
   ],
   "source": [
    "ds = tf.data.Dataset.from_tensor_slices(range(10)).batch(2)\n",
    "list(ds.take(2).as_numpy_iterator())"
   ]
  },
  {
   "cell_type": "code",
   "execution_count": 10,
   "id": "19d4dedf",
   "metadata": {},
   "outputs": [
    {
     "name": "stdout",
     "output_type": "stream",
     "text": [
      "加入后'书籍'：训练集大小7500，验证集大小962\n",
      "加入后'平板'：训练集大小15000，验证集大小3462\n",
      "加入后'手机'：训练集大小22500，验证集大小4042\n",
      "加入后'水果'：训练集大小30000，验证集大小6542\n",
      "加入后'洗发水'：训练集大小37500，验证集大小9042\n",
      "加入后'热水器'：训练集大小45000，验证集大小9185\n",
      "加入后'蒙牛'：训练集大小52500，验证集大小9693\n",
      "加入后'衣服'：训练集大小60000，验证集大小12193\n",
      "加入后'计算机'：训练集大小67500，验证集大小13191\n",
      "加入后'酒店'：训练集大小75000，验证集大小15691\n"
     ]
    }
   ],
   "source": [
    "# 首先将每种类别商品的数据按照3:1划分为训练集和验证集，然后对训练集进行补全到7500个数据\n",
    "train_ds, val_ds = None, None\n",
    "for name in class_names:\n",
    "    tmp = df[df.cat==name]\n",
    "    pos_num, neg_num = tmp[tmp.label==1].shape[0], tmp[tmp.label==0].shape[0]\n",
    "    pos_ds = tf.data.Dataset.from_tensor_slices((tmp[tmp.label==1]['review'], [(1, class2idx[name]) for _ in range(pos_num)]))\n",
    "    neg_ds = tf.data.Dataset.from_tensor_slices((tmp[tmp.label==0]['review'], [(0, class2idx[name]) for _ in range(neg_num)]))\n",
    "    \n",
    "    pos_num = pos_num * val_split // 100\n",
    "    neg_num = neg_num * val_split // 100\n",
    "    pos_val = pos_ds.take(pos_num)\n",
    "    pos_train = pos_ds.skip(pos_num)\n",
    "    neg_val = neg_ds.take(neg_num)\n",
    "    neg_train = neg_ds.skip(neg_num)\n",
    "    \n",
    "    train_marge = pos_train.concatenate(neg_train).shuffle(10000, seed=seed).repeat(-1)  # 合并正负数据，再补齐到7500个数据\n",
    "    train_ds = train_marge.take(7500) if train_ds is None else train_ds.concatenate(train_marge.take(7500))\n",
    "    val_ds = pos_val.concatenate(neg_val) if val_ds is None else val_ds.concatenate(pos_val).concatenate(neg_val)\n",
    "    \n",
    "    print(f\"加入后'{name}'：训练集大小{train_ds.cardinality()}，验证集大小{val_ds.cardinality()}\")"
   ]
  },
  {
   "cell_type": "raw",
   "id": "4ecc2a91",
   "metadata": {
    "scrolled": true
   },
   "source": [
    "# 旧版写法，没有划分验证集\n",
    "# 平衡每种类别的商品数目到10000正负例均为5000，不足5000则重复性随机选取，补齐到5000\n",
    "data_x, data_y = [], []\n",
    "for name in tqdm(class_names):\n",
    "    tmp = df[df.cat==name]\n",
    "    pos, neg = tmp[tmp.label==1], tmp[tmp.label==0]\n",
    "    if pos.shape[0] < 5000:\n",
    "        add = pos.sample(5000 - pos.shape[0], replace=True)\n",
    "        pos = pd.concat([pos, add], ignore_index=True)\n",
    "    for i in range(pos.shape[0]):\n",
    "        text = pos.iloc[i][2]\n",
    "        try:\n",
    "            text = tf.constant(text, tf.string)\n",
    "        except:\n",
    "            print(text)\n",
    "        data_x.append(text)\n",
    "        data_y.append((1, class2idx[name]))\n",
    "    if neg.shape[0] < 5000:\n",
    "        add = neg.sample(5000 - neg.shape[0], replace=True)\n",
    "        neg = pd.concat([neg, add], ignore_index=True)\n",
    "    for i in range(neg.shape[0]):\n",
    "        text = neg.iloc[i][2]\n",
    "        text = tf.constant(text, tf.string)\n",
    "        data_x.append(text)\n",
    "        data_y.append((0, class2idx[name]))"
   ]
  },
  {
   "cell_type": "code",
   "execution_count": 11,
   "id": "09f74f9a",
   "metadata": {},
   "outputs": [
    {
     "name": "stdout",
     "output_type": "stream",
     "text": [
      "(62773,)\n",
      "61430\n",
      "263.0\n"
     ]
    },
    {
     "data": {
      "text/plain": [
       "count    62773.000000\n",
       "mean        58.414892\n",
       "std         78.748469\n",
       "min          1.000000\n",
       "25%         21.000000\n",
       "50%         34.000000\n",
       "75%         64.000000\n",
       "max       2876.000000\n",
       "Name: review, dtype: float64"
      ]
     },
     "execution_count": 11,
     "metadata": {},
     "output_type": "execute_result"
    }
   ],
   "source": [
    "# 根据数据集中句子的长度来确定256个输入长度是合理的\n",
    "df_len = df['review'].apply(lambda x: len(x))\n",
    "print(df_len.shape)\n",
    "print(np.sum(df_len<=254))\n",
    "print(np.percentile(df_len, 98))\n",
    "df_len.describe()"
   ]
  },
  {
   "cell_type": "markdown",
   "id": "2c64870c",
   "metadata": {},
   "source": [
    "## 模型预处理"
   ]
  },
  {
   "cell_type": "code",
   "execution_count": 12,
   "id": "523e7b09",
   "metadata": {},
   "outputs": [],
   "source": [
    "# ds = tf.data.Dataset.from_tensor_slices((data_x, data_y))"
   ]
  },
  {
   "cell_type": "markdown",
   "id": "e2ac0ec7",
   "metadata": {},
   "source": [
    "### Preprocess预处理结果\n",
    "对于输入字符串 `你好`，预处理会在字符串开头和结尾处加上开始符号和停止符号，变为 `[CLS]你好[SEP]`，在原有序列长度上增加2.\n",
    "\n",
    "1. `input_mask`：一个one-hot向量，1表示有字，0表示没有字.\n",
    "2. `input_word_ids`：将每个字进行编码，101表示`[CLS]`，102表示`[SEP]`.\n",
    "3. `input_type_ids`：只有在两句话作为输入特征时才有作用，用于划分两句话.\n",
    "\n",
    "### Bert输出结果\n",
    "1. `pooled_output`：输入的句子向量. `[bath_size, 768]`.\n",
    "2. `sequence_output`：最后一个transform的输出结果. `[batch_size, 128, 768]`.\n",
    "3. `encoder_outputs`：长度为12的list，对应12个transform的输出结果. `[12, batch_size, 128, 768]`."
   ]
  },
  {
   "cell_type": "markdown",
   "id": "714be8ff",
   "metadata": {},
   "source": [
    "### 建立预处理模型"
   ]
  },
  {
   "cell_type": "code",
   "execution_count": 13,
   "id": "7377e610",
   "metadata": {},
   "outputs": [],
   "source": [
    "# 自定义预处理模型\n",
    "# preprocessor = hub.KerasLayer(r'model/bert_zh_preprocess_3/')\n",
    "def bert_preprocessor(sentence_features, seq_length=128):\n",
    "    text_inputs = [layers.Input(shape=(), dtype=tf.string, name=ft)\n",
    "                   for ft in sentence_features]  # 处理输入的句子特征\n",
    "    \n",
    "    preprocessor = hub.load(preprocesser_handle)\n",
    "    tokenize = hub.KerasLayer(preprocessor.tokenize, name='tokenizer')\n",
    "    tokenized_inputs = [tokenize(segment) for segment in text_inputs]  # 将句子划分为字\n",
    "    \n",
    "    packer = hub.KerasLayer(\n",
    "        preprocessor.bert_pack_inputs,\n",
    "        arguments=dict(seq_length=seq_length),\n",
    "        name='packer'\n",
    "    )\n",
    "    encoder_inputs = packer(tokenized_inputs)\n",
    "    return keras.Model(text_inputs, encoder_inputs, name='preprocessor')\n",
    "preprocessor = bert_preprocessor(['input1'])"
   ]
  },
  {
   "cell_type": "code",
   "execution_count": 14,
   "id": "aca60f6d",
   "metadata": {
    "scrolled": true
   },
   "outputs": [
    {
     "name": "stdout",
     "output_type": "stream",
     "text": [
      "Keys           : ['input_mask', 'input_word_ids', 'input_type_ids']\n",
      "Shape Word Ids : (2, 128)\n",
      "Word Ids       : [ 101  872 1962 1435  102    0    0    0    0    0    0    0]\n",
      "Shape Mask     : (2, 128)\n",
      "Input Mask     : [1 1 1 1 1 0 0 0 0 0 0 0]\n",
      "Shape Type Ids : (2, 128)\n",
      "Type Ids       : [0 0 0 0 0 0 0 0 0 0 0 0]\n"
     ]
    }
   ],
   "source": [
    "x = tf.constant(['你好呀', '不好但是'])\n",
    "x_preprocessed = preprocessor(x)\n",
    "print(f\"{'Keys':<15}: {list(x_preprocessed.keys())}\")\n",
    "print(f\"{'Shape Word Ids':<15}: {x_preprocessed['input_word_ids'].shape}\")\n",
    "print(f\"{'Word Ids':<15}: {x_preprocessed['input_word_ids'][0,:12]}\")\n",
    "print(f\"{'Shape Mask':<15}: {x_preprocessed['input_mask'].shape}\")\n",
    "print(f\"{'Input Mask':<15}: {x_preprocessed['input_mask'][0,:12]}\")\n",
    "print(f\"{'Shape Type Ids':<15}: {x_preprocessed['input_type_ids'].shape}\")\n",
    "print(f\"{'Type Ids':<15}: {x_preprocessed['input_type_ids'][0,:12]}\")"
   ]
  },
  {
   "cell_type": "code",
   "execution_count": 15,
   "id": "3e40f694",
   "metadata": {
    "scrolled": false
   },
   "outputs": [
    {
     "data": {
      "image/png": "[encoded data removed]",
      "text/plain": [
       "<IPython.core.display.Image object>"
      ]
     },
     "execution_count": 15,
     "metadata": {},
     "output_type": "execute_result"
    }
   ],
   "source": [
    "keras.utils.plot_model(preprocessor, show_shapes=True, show_dtype=True, to_file='Preprocessor.png')"
   ]
  },
  {
   "cell_type": "markdown",
   "id": "1ff6f87e",
   "metadata": {},
   "source": [
    "### 建立bert模型"
   ]
  },
  {
   "cell_type": "code",
   "execution_count": 16,
   "id": "55ec73c2",
   "metadata": {},
   "outputs": [],
   "source": [
    "bert_model = hub.KerasLayer(encoder_handle)"
   ]
  },
  {
   "cell_type": "code",
   "execution_count": 17,
   "id": "e4b9542d",
   "metadata": {},
   "outputs": [
    {
     "name": "stdout",
     "output_type": "stream",
     "text": [
      "dict_keys(['pooled_output', 'default', 'sequence_output', 'encoder_outputs'])\n"
     ]
    },
    {
     "data": {
      "text/plain": [
       "(768,)"
      ]
     },
     "execution_count": 17,
     "metadata": {},
     "output_type": "execute_result"
    }
   ],
   "source": [
    "# 一个两个输入句子的例子\n",
    "# x = [tf.constant(['国破山河在']), tf.constant(['城春草木深'])]\n",
    "# 句子转为向量\n",
    "text = tf.constant(['国破山河在'])\n",
    "text_preprocessed = preprocessor(text)\n",
    "bert_results = bert_model(text_preprocessed)\n",
    "print(bert_results.keys())\n",
    "bert_results['pooled_output'][0].numpy().shape"
   ]
  },
  {
   "cell_type": "code",
   "execution_count": 18,
   "id": "da35a90c",
   "metadata": {},
   "outputs": [],
   "source": [
    "def build_classifier():\n",
    "    class Classifier(keras.Model):\n",
    "        def __init__(self):\n",
    "            super().__init__(name='prediction')\n",
    "            self.encoder = hub.KerasLayer(encoder_handle, trainable=True)\n",
    "            # self.dense = layers.Dense(768, activation='relu')\n",
    "            self.dropout = layers.Dropout(0.3)\n",
    "            self.emotion = layers.Dense(1)  # 情感分类\n",
    "            self.classifier = layers.Dense(10)  # 文本分类\n",
    "            \n",
    "        def call(self, text):  # 经过预处理后的文本\n",
    "            output = self.encoder(text)\n",
    "            pooled_output = output['pooled_output']\n",
    "            x = self.dropout(pooled_output)\n",
    "            x1 = self.emotion(x)\n",
    "            x2 = self.classifier(x)\n",
    "            return (x1, x2)\n",
    "    \n",
    "    model = Classifier()\n",
    "    return model\n",
    "\n",
    "# model = build_classifier()\n",
    "# model.build(input_shape=())"
   ]
  },
  {
   "cell_type": "code",
   "execution_count": 19,
   "id": "73bcd43b",
   "metadata": {},
   "outputs": [],
   "source": [
    "def build_classifier():\n",
    "    text_input = layers.Input(shape=(), dtype=tf.string, name='input')\n",
    "    text_preprocessed = preprocessor(text_input)\n",
    "    encoder = hub.KerasLayer(encoder_handle, trainable=True, name='BERT_encoder')\n",
    "    x = encoder(text_preprocessed)['pooled_output']\n",
    "    x = layers.Dropout(0.3)(x)\n",
    "    x1 = layers.Dense(1, name='emotion')(x)\n",
    "    x2 = layers.Dense(10, name='classifier')(x)\n",
    "    return keras.Model(text_input, [x1, x2])\n",
    "classifier_model = build_classifier()"
   ]
  },
  {
   "cell_type": "code",
   "execution_count": 20,
   "id": "a30ef9b4",
   "metadata": {},
   "outputs": [
    {
     "data": {
      "image/png": "[encoded data removed]",
      "text/plain": [
       "<IPython.core.display.Image object>"
      ]
     },
     "execution_count": 20,
     "metadata": {},
     "output_type": "execute_result"
    }
   ],
   "source": [
    "keras.utils.plot_model(classifier_model, show_dtype=True, show_shapes=True)"
   ]
  },
  {
   "cell_type": "code",
   "execution_count": 21,
   "id": "fb6aa0a7",
   "metadata": {
    "scrolled": true
   },
   "outputs": [
    {
     "data": {
      "text/plain": [
       "[<tf.Tensor: shape=(1, 1), dtype=float32, numpy=array([[-1.2013735]], dtype=float32)>,\n",
       " <tf.Tensor: shape=(1, 10), dtype=float32, numpy=\n",
       " array([[-2.2343225 ,  0.34765464,  0.5692795 , -0.40534532,  0.05779657,\n",
       "         -1.6899788 ,  1.8460698 ,  3.082738  , -1.2819345 , -0.4283673 ]],\n",
       "       dtype=float32)>]"
      ]
     },
     "execution_count": 21,
     "metadata": {},
     "output_type": "execute_result"
    }
   ],
   "source": [
    "# 测试输出\n",
    "classifier_model(text)"
   ]
  },
  {
   "cell_type": "code",
   "execution_count": 22,
   "id": "f508ad66",
   "metadata": {},
   "outputs": [],
   "source": [
    "# 超参数配置\n",
    "batch_size = 16\n",
    "batch_N = 100000 / 32\n",
    "epochs = 10\n",
    "optimizer = optimizers.Adam(learning_rate=1e-4)  # Adam优化器，设定步长\n",
    "binary_loss = losses.BinaryCrossentropy(from_logits=True)  # 情感分类使用二元交叉熵\n",
    "multi_loss = losses.SparseCategoricalCrossentropy(from_logits=True)  # 物品分类使用一般的交叉熵\n",
    "train_ds = train_ds.shuffle(100000).batch(batch_size).repeat(epochs)  # 随机打乱样本，设定batch大小\n",
    "val_ds = val_ds.batch(batch_size)\n",
    "# 计数器\n",
    "emotion_acc = keras.metrics.BinaryAccuracy('emotion_acc')  # 情感分类上的准确率\n",
    "emotion_loss= keras.metrics.Mean('emotion_loss', dtype=tf.float32)  # 情感分类的平均损失\n",
    "class_acc = keras.metrics.SparseCategoricalAccuracy('class_acc')  # 物品分类上的准确率\n",
    "class_loss = keras.metrics.Mean('class_loss', dtype=tf.float32)  # 物品分类上的平均损失\n",
    "metrics = [emotion_acc, emotion_loss, class_acc, class_loss]"
   ]
  },
  {
   "cell_type": "code",
   "execution_count": 23,
   "id": "bf9df6ab",
   "metadata": {},
   "outputs": [
    {
     "data": {
      "text/plain": [
       "128"
      ]
     },
     "execution_count": 23,
     "metadata": {},
     "output_type": "execute_result"
    }
   ],
   "source": [
    "x, y = next(train_ds.as_numpy_iterator())\n",
    "x_preprocessed = preprocessor(x)\n",
    "len(x_preprocessed['input_word_ids'][0])"
   ]
  },
  {
   "cell_type": "code",
   "execution_count": null,
   "id": "4135ce0d",
   "metadata": {
    "scrolled": true
   },
   "outputs": [
    {
     "name": "stdout",
     "output_type": "stream",
     "text": [
      "Start training!!!\n"
     ]
    }
   ],
   "source": [
    "history = dict()\n",
    "print(\"Start training!!!\")\n",
    "def test(val_ds):  # 模型测试\n",
    "    for (x, y) in val_ds:\n",
    "        emotion_y = tf.reshape(y[:, 0], [-1, 1])  # 情感标签\n",
    "        classes_y = tf.reshape(y[:, 1], [-1, 1])  # 分类标签\n",
    "        emotion, classes = classifier_model(x, training=False)\n",
    "        emotion_acc.update_state(emotion_y, emotion)\n",
    "        class_acc.update_state(classes_y, classes)\n",
    "        break\n",
    "\n",
    "def train():  # 模型训练\n",
    "    for step, (x, y) in enumerate(train_ds):\n",
    "        emotion_y = tf.reshape(y[:, 0], [-1, 1])  # 情感标签\n",
    "        classes_y = tf.reshape(y[:, 1], [-1, 1])  # 分类标签\n",
    "        with tf.GradientTape() as tape:\n",
    "            emotion, classes = classifier_model(x, training=True)  # 模型预测\n",
    "            loss1 = binary_loss(emotion_y, emotion)  # y=(batch, 2)\n",
    "            loss2 = multi_loss(classes_y, classes)\n",
    "            loss = tf.reduce_mean(loss1 + loss2)  # 将两个loss求和作为总损失\n",
    "        grads = tape.gradient(loss, classifier_model.trainable_variables)  # 求梯度\n",
    "        optimizer.apply_gradients(zip(grads, classifier_model.trainable_variables))  # 更新网络参数\n",
    "\n",
    "        emotion_acc.update_state(emotion_y, emotion)\n",
    "        emotion_loss.update_state(loss1)\n",
    "        class_acc.update_state(classes_y, classes)\n",
    "        class_loss.update_state(loss2)\n",
    "\n",
    "        if step % 100 == 0:\n",
    "            s = f\"step={step}/{batch_N * epochs}: \"\n",
    "            for metric in metrics:\n",
    "                s += f\"{metric.name}={metric.result().numpy():.3f} \"\n",
    "                if metric.name not in history.keys():\n",
    "                    history[metric.name] = []\n",
    "                history[metric.name].append(metric.result().numpy())\n",
    "                metric.reset_states()\n",
    "            print(s)\n",
    "            test(val_ds)  # 求验证集上的准确率\n",
    "            s = \"\"\n",
    "            for metric in metrics:\n",
    "                s += f\"{'val_'+metric.name}={metric.result().numpy():.3f} \"\n",
    "                if 'val_' + metric.name not in history.keys():\n",
    "                    history['val_'+metric.name] = []\n",
    "                history['val_'+metric.name].append(metric.result().numpy())\n",
    "                metric.reset_states()\n",
    "            print(s)\n",
    "        break\n",
    "train()\n",
    "print(\"OK\")"
   ]
  }
 ],
 "metadata": {
  "kernelspec": {
   "display_name": "Python 3 (ipykernel)",
   "language": "python",
   "name": "python3"
  },
  "language_info": {
   "codemirror_mode": {
    "name": "ipython",
    "version": 3
   },
   "file_extension": ".py",
   "mimetype": "text/x-python",
   "name": "python",
   "nbconvert_exporter": "python",
   "pygments_lexer": "ipython3",
   "version": "3.9.12"
  }
 },
 "nbformat": 4,
 "nbformat_minor": 5
}
